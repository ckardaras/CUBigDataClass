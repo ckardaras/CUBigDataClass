{
 "cells": [
  {
   "cell_type": "code",
   "execution_count": 54,
   "metadata": {},
   "outputs": [],
   "source": [
    "import yfinance as yf\n",
    "import numpy as np\n",
    "import pandas as pd\n",
    "import tweepy as tw\n",
    "from datetime import datetime\n",
    "\n",
    "import emot\n",
    "\n",
    "from textblob import TextBlob"
   ]
  },
  {
   "cell_type": "code",
   "execution_count": 5,
   "metadata": {},
   "outputs": [
    {
     "name": "stdout",
     "output_type": "stream",
     "text": [
      "[*********************100%***********************]  1 of 1 completed\n",
      "[*********************100%***********************]  1 of 1 completed\n"
     ]
    }
   ],
   "source": [
    "#Grab cryptocurrency price\n",
    "\n",
    "btc_data = yf.download(tickers='BTC-USD', period='1mo', interval='1d')\n",
    "eth_data = yf.download(tickers='ETH-USD', period='1mo', interval='1d')\n",
    "\n",
    "btc_df = pd.DataFrame(btc_data)\n",
    "eth_df = pd.DataFrame(eth_data)\n",
    "\n",
    "btc_df.to_csv(\"btc_price.csv\")\n",
    "eth_df.to_csv(\"eth_price.csv\")"
   ]
  },
  {
   "cell_type": "code",
   "execution_count": 44,
   "metadata": {},
   "outputs": [],
   "source": [
    "#Grab tweets\n",
    "consumer_key= 'Ou9XaMR4qgy3KGr7cSfvhjnYl'\n",
    "consumer_secret= 'kTl5Vs6918QYgEkufJVPbpfbuyFAyyjYfkRcl2hAL5BjGyqxyj'\n",
    "access_token= '2991366318-LhMbjkJGvNkmO5bwSzVfMhZQWl19dzoPdgOWD8V'\n",
    "access_token_secret= 'qmRpWmw2UHP3VPYOoodeOIt2s8liaGnEaePDSF9JtFIYI'\n",
    "\n",
    "auth = tw.OAuthHandler(consumer_key, consumer_secret)\n",
    "auth.set_access_token(access_token, access_token_secret)\n",
    "api = tw.API(auth, wait_on_rate_limit=True)\n",
    "\n",
    "search_words = \"#btc OR #bitcoin OR bitcoin OR btc\"\n",
    "date_since = datetime.today().strftime('%Y-%m-%d')\n",
    "\n",
    "tweets = tw.Cursor(api.search,\n",
    "              q=search_words,\n",
    "              lang=\"en\",\n",
    "              since=date_since).items()"
   ]
  },
  {
   "cell_type": "code",
   "execution_count": 56,
   "metadata": {},
   "outputs": [
    {
     "name": "stdout",
     "output_type": "stream",
     "text": [
      "1386007838141517825 2021-04-24 17:08:20 RogersTRobert [] https://twitter.com/RogersTRobert/status/1386007838141517825 @INArteCarloDoss @satsdart I JUST downloaded CB to do some research myself.  I had assumed that higher Tether/USDC… httpsSkeptical, annoyed, undecided, uneasy or hesitant/t.co/MkyiSPmtAf -0.07500000000000001\n",
      "1386007838133088256 2021-04-24 17:08:20 Enemyofsociety3 ['Airdrop'] https://twitter.com/Enemyofsociety3/status/1386007838133088256 RT @AirdropDet:  left pointing magnifying glass  New #Airdrop: Liquifi\n",
      "\n",
      " heavy dollar sign  RewarTongue sticking out, cheeky, playful or blowing a raspberry Up to 12 LQF [~$6] + 4 LQF [~$2] per referral\n",
      "\n",
      " red circle  Start the airdrop bot: httpsSkeptical, annoyed, undecided, uneasy or hesitant/t.co/aJT… -0.09272727272727274\n",
      "1386007837797724167 2021-04-24 17:08:20 auscryptolife [] https://twitter.com/auscryptolife/status/1386007837797724167 Hot on r/cryptocurrency: 73 percent of millionaires already hold crypto assets or plan to do so by the end of 2022  httpsSkeptical, annoyed, undecided, uneasy or hesitant/t.co/fGurDvbBVi -0.07500000000000001\n",
      "1386007837558591489 2021-04-24 17:08:20 bohemianfarmer [] https://twitter.com/bohemianfarmer/status/1386007837558591489 @MultiBitcoiner I do. If you have kids that are \"school age\" you should also, then you will learn why they shouldn'… httpsSkeptical, annoyed, undecided, uneasy or hesitant/t.co/3Os1L8sy5g -0.4\n",
      "1386007837072056321 2021-04-24 17:08:20 HodlOn4 ['BTC', 'Ethereum', 'SAFEMOON'] https://twitter.com/HodlOn4/status/1386007837072056321 RT @MaroKadri: Sold most of my #BTC and #Ethereum and put it into #SAFEMOON a little while ago , I believe it will cross a penny this year.… 0.10416666666666667\n",
      "1386007836522684420 2021-04-24 17:08:20 Cha1Eric ['Bitcoin'] https://twitter.com/Cha1Eric/status/1386007836522684420 RT @Theclever360: Google searches of \"#Bitcoin\" have just reached an all-time high in Turkey 🇹🇷 following the government's recent ban on pa… 0.05333333333333334\n"
     ]
    }
   ],
   "source": [
    "stop_words = stopwords.words(\"english\")\n",
    "stemmer = SnowballStemmer(\"english\", ignore_stopwords=True)\n",
    "lemmatizer = WordNetLemmatizer()\n",
    "tokenzr = RegexpTokenizer('\\s+', gaps = True)\n",
    "    \n",
    "def stem_tokenize(text):\n",
    "    tokenized_text = tokenzr.tokenize(text.lower())\n",
    "    words = [lemmatizer.lemmatize(w) for w in tokenized_text if w not in stop_words]\n",
    "    stem_text = \" \".join([stemmer.stem(i) for i in words])\n",
    "\n",
    "    return stem_text #converted emoji to unicode description of emoji is return as string text\n",
    "\n",
    "\n",
    "def regex_tweet(tweet):\n",
    "    tweet = ' '.join(re.sub(\"(\\$[A-Za-z0-9]+)\", \" \", tweet).split())\n",
    "    tweet = ' '.join(re.sub(\"(@[A-Za-z0-9]+)|(#[A-Za-z0-9]+)\", \" \", tweet).split())\n",
    "    tweet = ' '.join(re.sub(\"(\\w+:\\/\\/\\S+)\", \" \", tweet).split())\n",
    "    tweet = ' '.join(re.sub(\"[\\.\\,\\!\\?\\:\\;\\-\\=]\", \" \", tweet).split())\n",
    "    tweet = ' '.join(re.sub(\"[\\[\\]]\", \" \", tweet).split())\n",
    "    return tweet\n",
    "\n",
    "\n",
    "def clean_mean(val):\n",
    "    return val.replace('_', ' ').replace('-', ' ').replace(':', ' ')\n",
    "\n",
    "\n",
    "def convert_emojicon(text):\n",
    "    for emoti in emot.emo_unicode.EMOTICONS:\n",
    "        if emoti in text:\n",
    "            text = text.replace(emoti, clean_mean(emot.emo_unicode.EMOTICONS.get(emoti, '')))\n",
    "            \n",
    "    for emoti in emot.emo_unicode.UNICODE_EMO:\n",
    "        if emoti in text:\n",
    "            text = text.replace(emoti, clean_mean(emot.emo_unicode.UNICODE_EMO.get(emoti, '')))\n",
    "            \n",
    "    for emoti in emot.emo_unicode.EMOTICONS_EMO:\n",
    "        if emoti in text:\n",
    "            text = text.replace(emoti, clean_mean(emot.emo_unicode.EMOTICONS_EMO.get(emoti, '')))\n",
    "            \n",
    "    return text\n",
    "\n",
    "sia = SIA()\n",
    "\n",
    "count = 0\n",
    "for tweet in tweets:\n",
    "    tweet_id = tweet.id\n",
    "    tweet_time = tweet.created_at\n",
    "    tweet_username = tweet.author.screen_name\n",
    "    \n",
    "    tweet_hashtags = tweet.entities['hashtags']\n",
    "    hashtags = []\n",
    "    for hashtag in tweet_hashtags:\n",
    "        hashtags.append(hashtag['text'])\n",
    "        \n",
    "    cashtags = \"\"\n",
    "    link = \"https://twitter.com/{username}/status/{id}\".format(username = tweet_username, id = tweet_id)\n",
    "    \n",
    "    tweet_text = tweet.text\n",
    "    tweet_text = convert_emojicon(tweet_text)\n",
    "    \n",
    "    tweet_sentiment = TextBlob(tweet_text).sentiment.polarity\n",
    "        \n",
    "    print(tweet_id, tweet_date, tweet_username, hashtags, link, tweet_text, tweet_sentiment)\n",
    "    count += 1\n",
    "    if count > 5:\n",
    "        break\n",
    "    "
   ]
  },
  {
   "cell_type": "raw",
   "metadata": {},
   "source": []
  }
 ],
 "metadata": {
  "kernelspec": {
   "display_name": "Python 3",
   "language": "python",
   "name": "python3"
  },
  "language_info": {
   "codemirror_mode": {
    "name": "ipython",
    "version": 3
   },
   "file_extension": ".py",
   "mimetype": "text/x-python",
   "name": "python",
   "nbconvert_exporter": "python",
   "pygments_lexer": "ipython3",
   "version": "3.7.9"
  }
 },
 "nbformat": 4,
 "nbformat_minor": 4
}
