{
 "cells": [
  {
   "cell_type": "code",
   "execution_count": 9,
   "metadata": {},
   "outputs": [
    {
     "name": "stderr",
     "output_type": "stream",
     "text": [
      "[nltk_data] Downloading package vader_lexicon to\n",
      "[nltk_data]     C:\\Users\\ckard\\AppData\\Roaming\\nltk_data...\n",
      "[nltk_data]   Package vader_lexicon is already up-to-date!\n",
      "[nltk_data] Downloading package stopwords to\n",
      "[nltk_data]     C:\\Users\\ckard\\AppData\\Roaming\\nltk_data...\n",
      "[nltk_data]   Package stopwords is already up-to-date!\n",
      "[nltk_data] Downloading package wordnet to\n",
      "[nltk_data]     C:\\Users\\ckard\\AppData\\Roaming\\nltk_data...\n",
      "[nltk_data]   Package wordnet is already up-to-date!\n"
     ]
    }
   ],
   "source": [
    "import numpy as np \n",
    "import pandas as pd \n",
    "import matplotlib.pyplot as plt\n",
    "import matplotlib.dates as mdates\n",
    "import matplotlib.ticker as tkr\n",
    "import seaborn as sns\n",
    "import scipy as stats\n",
    "import regex as re\n",
    "\n",
    "import nltk # sentiment library\n",
    "from nltk.tokenize import TweetTokenizer\n",
    "from nltk.corpus import stopwords\n",
    "from nltk.stem import SnowballStemmer, WordNetLemmatizer\n",
    "from nltk.tokenize import RegexpTokenizer\n",
    "nltk.download('vader_lexicon') # download vader lexicon\n",
    "nltk.download(\"stopwords\")\n",
    "nltk.download(\"wordnet\")\n",
    "\n",
    "from nltk.sentiment import SentimentIntensityAnalyzer as SIA"
   ]
  },
  {
   "cell_type": "code",
   "execution_count": 4,
   "metadata": {},
   "outputs": [],
   "source": [
    "    tokenizer = RegexpTokenizer('\\s+', gaps=True)\n",
    "    stop_words = stopwords.words(\"english\")\n",
    "    stemmer = SnowballStemmer(\"english\", ignore_stopwords=True)\n",
    "    lemmatizer = WordNetLemmatizer()\n",
    "    df = pd.read_csv('bitcoin.csv',dtype={'conversation_id':str,\n",
    "                                          'timezone':str,\n",
    "                                          'photos':str,\n",
    "                                          'user_id':str,\n",
    "                                          'replies_count':str,\n",
    "                                          'retweets_count':str,\n",
    "                                          'likes_count':str,\n",
    "                                          'video':str,\n",
    "                                          'near':str,\n",
    "                                          'geo':str,\n",
    "                                          'source':str,\n",
    "                                          'user_rt_id':str,\n",
    "                                          'user_rt':str,\n",
    "                                          'retweet_id':str,\n",
    "                                          'reply_to':str,\n",
    "                                          'trans_src':str,\n",
    "                                          'trans_dest':str,\n",
    "                                          'retweet_date':str,\n",
    "                                          'translate':str})"
   ]
  },
  {
   "cell_type": "code",
   "execution_count": 6,
   "metadata": {},
   "outputs": [
    {
     "name": "stdout",
     "output_type": "stream",
     "text": [
      "                    id                                  created_at  \\\n",
      "0  1241514861353406468  2020-03-21 17:59:43 Mountain Daylight Time   \n",
      "1  1241514829120040960  2020-03-21 17:59:36 Mountain Daylight Time   \n",
      "2  1241514705904115712  2020-03-21 17:59:06 Mountain Daylight Time   \n",
      "3  1241514692880683008  2020-03-21 17:59:03 Mountain Daylight Time   \n",
      "4  1241514689634467845  2020-03-21 17:59:02 Mountain Daylight Time   \n",
      "\n",
      "         date      time              user_id         username  \\\n",
      "0  2020-03-21  17:59:43  1016637745102577665         vlada682   \n",
      "1  2020-03-21  17:59:36           4863588554       jesamine09   \n",
      "2  2020-03-21  17:59:06   897577030476324864  thebitcoinpizza   \n",
      "3  2020-03-21  17:59:03   932046802680938496     bitcoinchute   \n",
      "4  2020-03-21  17:59:02   880916204378042368     emmamackay30   \n",
      "\n",
      "                                               tweet  \\\n",
      "0  32k $icx ans 1m $vet is it enough to become ri...   \n",
      "1  BIT FUN. Play games, have fun, earn bitcoin!. ...   \n",
      "2  The #BitcoinPizza would be worth US$61,850,665...   \n",
      "3                  You can buy a whole bitcoin. $btc   \n",
      "4  Investing in bitcoin has really changed my lif...   \n",
      "\n",
      "                      hashtags                                 cashtags  \\\n",
      "0                           []  ['icx', 'vet', 'btc', 'life', 'crypto']   \n",
      "1        ['bitcoin', 'faucet']                                       []   \n",
      "2  ['bitcoinpizza', 'bitcoin']                                       []   \n",
      "3                           []                                  ['btc']   \n",
      "4  ['bitcoin', 'cryptonation']                                       []   \n",
      "\n",
      "                                                link  \n",
      "0  https://twitter.com/Vlada682/status/1241514861...  \n",
      "1  https://twitter.com/jesamine09/status/12415148...  \n",
      "2  https://twitter.com/TheBitcoinPizza/status/124...  \n",
      "3  https://twitter.com/bitcoinchute/status/124151...  \n",
      "4  https://twitter.com/EmmaMackay30/status/124151...  \n"
     ]
    }
   ],
   "source": [
    "    df=df.drop(['name','place','quote_url','near','geo','user_rt','retweet_id','retweet_date','translate','trans_src','trans_dest','source','thumbnail','user_rt_id'],axis=1)\n",
    "    index_names = df[df['language'] != 'en'].index\n",
    "    df.drop(index_names, inplace=True)\n",
    "    df = df.drop(['conversation_id','timezone','language','mentions','urls','photos','replies_count','retweets_count','likes_count','retweet','video','reply_to'], axis=1)\n",
    "    print(df.head())"
   ]
  },
  {
   "cell_type": "code",
   "execution_count": 10,
   "metadata": {},
   "outputs": [],
   "source": [
    "def regex_tweet(tweet):\n",
    "    tweet = ' '.join(re.sub(\"(\\$[A-Za-z0-9]+)\", \" \", tweet).split())\n",
    "    tweet = ' '.join(re.sub(\"(@[A-Za-z0-9]+)|(#[A-Za-z0-9]+)\", \" \", tweet).split())\n",
    "    tweet = ' '.join(re.sub(\"(\\w+:\\/\\/\\S+)\", \" \", tweet).split())\n",
    "    tweet = ' '.join(re.sub(\"[\\.\\,\\!\\?\\:\\;\\-\\=]\", \" \", tweet).split())\n",
    "    tweet = ' '.join(re.sub(\"[\\[\\]]\", \" \", tweet).split())\n",
    "    return tweet"
   ]
  },
  {
   "cell_type": "code",
   "execution_count": 12,
   "metadata": {},
   "outputs": [],
   "source": [
    "df['regex_tweet'] = df.apply(lambda row: regex_tweet(row['tweet']), axis=1)"
   ]
  },
  {
   "cell_type": "code",
   "execution_count": 16,
   "metadata": {},
   "outputs": [
    {
     "name": "stdout",
     "output_type": "stream",
     "text": [
      "                    id                                  created_at  \\\n",
      "0  1241514861353406468  2020-03-21 17:59:43 Mountain Daylight Time   \n",
      "1  1241514829120040960  2020-03-21 17:59:36 Mountain Daylight Time   \n",
      "2  1241514705904115712  2020-03-21 17:59:06 Mountain Daylight Time   \n",
      "3  1241514692880683008  2020-03-21 17:59:03 Mountain Daylight Time   \n",
      "4  1241514689634467845  2020-03-21 17:59:02 Mountain Daylight Time   \n",
      "\n",
      "         date      time              user_id         username  \\\n",
      "0  2020-03-21  17:59:43  1016637745102577665         vlada682   \n",
      "1  2020-03-21  17:59:36           4863588554       jesamine09   \n",
      "2  2020-03-21  17:59:06   897577030476324864  thebitcoinpizza   \n",
      "3  2020-03-21  17:59:03   932046802680938496     bitcoinchute   \n",
      "4  2020-03-21  17:59:02   880916204378042368     emmamackay30   \n",
      "\n",
      "                                               tweet  \\\n",
      "0  32k $icx ans 1m $vet is it enough to become ri...   \n",
      "1  BIT FUN. Play games, have fun, earn bitcoin!. ...   \n",
      "2  The #BitcoinPizza would be worth US$61,850,665...   \n",
      "3                  You can buy a whole bitcoin. $btc   \n",
      "4  Investing in bitcoin has really changed my lif...   \n",
      "\n",
      "                      hashtags                                 cashtags  \\\n",
      "0                           []  ['icx', 'vet', 'btc', 'life', 'crypto']   \n",
      "1        ['bitcoin', 'faucet']                                       []   \n",
      "2  ['bitcoinpizza', 'bitcoin']                                       []   \n",
      "3                           []                                  ['btc']   \n",
      "4  ['bitcoin', 'cryptonation']                                       []   \n",
      "\n",
      "                                                link  \\\n",
      "0  https://twitter.com/Vlada682/status/1241514861...   \n",
      "1  https://twitter.com/jesamine09/status/12415148...   \n",
      "2  https://twitter.com/TheBitcoinPizza/status/124...   \n",
      "3  https://twitter.com/bitcoinchute/status/124151...   \n",
      "4  https://twitter.com/EmmaMackay30/status/124151...   \n",
      "\n",
      "                                         regex_tweet  \n",
      "0  32k ans 1m is it enough to become rich and ret...  \n",
      "1       BIT FUN Play games have fun earn bitcoin via  \n",
      "2  The would be worth US 850 665 15 right now (up...  \n",
      "3                        You can buy a whole bitcoin  \n",
      "4  Investing in bitcoin has really changed my life 🤑  \n"
     ]
    }
   ],
   "source": [
    "print(df.head())"
   ]
  },
  {
   "cell_type": "markdown",
   "metadata": {},
   "source": [
    "**README**\n",
    "- emot: library used to process emoji and emoticons\n",
    "\n",
    "- first see polarity adjusted score with TextBlob \n",
    "\n",
    "- then compare adjusted polarity scores using NLTK's sentiment analyzer afterwards"
   ]
  },
  {
   "cell_type": "markdown",
   "metadata": {},
   "source": [
    "**processing emojis via emot library:**\n",
    "----"
   ]
  },
  {
   "cell_type": "code",
   "execution_count": 15,
   "metadata": {},
   "outputs": [],
   "source": [
    "# 1. Via pip:\n",
    "# $ pip install emot --upgrade\n",
    "\n",
    "#import sys\n",
    "#!{sys.executable} -m pip install emot --upgrade\n",
    "\n",
    "# 2. From master branch: \n",
    "# $ git clone https://github.com/NeelShah18/emot.git\n",
    "# $ cd emot\n",
    "# $ python setup.py install\n",
    "\n",
    "import emot\n",
    "\n",
    "def clean_mean(val):\n",
    "    return val.replace('_', ' ').replace('-', ' ').replace(':', ' ')\n",
    "\n",
    "def convert_emojicon(text, isPrint=True):\n",
    "    for emoti in emot.emo_unicode.EMOTICONS:\n",
    "        if emoti in text:\n",
    "            text = text.replace(emoti, clean_mean(emot.emo_unicode.EMOTICONS.get(emoti, '')))\n",
    "            if isPrint==True:\n",
    "                print(emoti)\n",
    "            \n",
    "    for emoti in emot.emo_unicode.UNICODE_EMO:\n",
    "        if emoti in text:\n",
    "            text = text.replace(emoti, clean_mean(emot.emo_unicode.UNICODE_EMO.get(emoti, '')))\n",
    "            if isPrint==True:\n",
    "                print(emoti)\n",
    "            \n",
    "    for emoti in emot.emo_unicode.EMOTICONS_EMO:\n",
    "        if emoti in text:\n",
    "            text = text.replace(emoti, clean_mean(emot.emo_unicode.EMOTICONS_EMO.get(emoti, '')))\n",
    "            if isPrint==True:\n",
    "                print(emoti)\n",
    "    return text"
   ]
  },
  {
   "cell_type": "code",
   "execution_count": 1,
   "metadata": {},
   "outputs": [],
   "source": [
    "#df['emojied_tweets'] = df.apply(lambda row: convert_emojicon(row['regex_tweet']), axis=1)"
   ]
  },
  {
   "cell_type": "markdown",
   "metadata": {},
   "source": [
    "**via TextBlob Sentiment Analyser:**\n",
    "----\n"
   ]
  },
  {
   "cell_type": "code",
   "execution_count": 19,
   "metadata": {},
   "outputs": [],
   "source": [
    "from textblob import TextBlob\n",
    "\n",
    "def stem_tokenize(text):\n",
    "    stop_words = stopwords.words(\"english\")\n",
    "    stemmer = SnowballStemmer(\"english\", ignore_stopwords=True)\n",
    "    lemmatizer = WordNetLemmatizer()\n",
    "    tokenzr = RegexpTokenizer('\\s+', gaps = True)\n",
    "    \n",
    "    tokenized_text = tokenzr.tokenize(text.lower())\n",
    "    words = [lemmatizer.lemmatize(w) for w in tokenized_text if w not in stop_words]\n",
    "    stem_text = \" \".join([stemmer.stem(i) for i in words])\n",
    "\n",
    "    return stem_text #converted emoji to unicode description of emoji is return as string text"
   ]
  },
  {
   "cell_type": "code",
   "execution_count": 21,
   "metadata": {},
   "outputs": [],
   "source": [
    "def compareAdjustedScores(text):\n",
    "    adjusted_text = convert_emojicon(text, isPrint==False)\n",
    "    adjusted_stemmed = stem_tokenize(adjusted_text)\n",
    "    \n",
    "    print(\"pre-adjustments: {}; post-adjustments: {}\".format(TextBlob(text).sentiment.polarity, TextBlob(adjusted_stemmed).sentiment.polarity))"
   ]
  },
  {
   "cell_type": "code",
   "execution_count": 22,
   "metadata": {},
   "outputs": [
    {
     "name": "stdout",
     "output_type": "stream",
     "text": [
      "😞\n",
      " disappointed face \n",
      "pre-adjustments: 0.0; post-adjustments: 0.0\n",
      "\n",
      "---\n",
      "\n",
      "🙁\n",
      " slightly frowning face \n",
      "pre-adjustments: 0.0; post-adjustments: -0.16666666666666666\n",
      "\n",
      "---\n",
      "\n",
      "😀\n",
      " grinning face \n",
      "pre-adjustments: 0.0; post-adjustments: 0.0\n",
      "\n",
      "---\n",
      "\n",
      "🙂\n",
      " slightly smiling face \n",
      "pre-adjustments: 0.0; post-adjustments: 0.06666666666666667\n"
     ]
    }
   ],
   "source": [
    "isPrint = True\n",
    "#\n",
    "sample_sad = \"😞\"\n",
    "print(returnedText:=convert_emojicon(sample_sad, isPrint==True)) #converted emoji to unicode description of emoji is return as string text\n",
    "compareAdjustedScores(sample_sad)\n",
    "print(\"\\n---\\n\")\n",
    "#\n",
    "sample_sad2 = \"🙁\"\n",
    "print(returnedText:=convert_emojicon(sample_sad2, isPrint==True))\n",
    "compareAdjustedScores(sample_sad2)\n",
    "print(\"\\n---\\n\")\n",
    "#\n",
    "sample_happy = \"😀\"\n",
    "print(returnedText:=convert_emojicon(sample_happy, isPrint==True))\n",
    "compareAdjustedScores(sample_happy)\n",
    "print(\"\\n---\\n\")\n",
    "#\n",
    "sample_happy2= \"🙂\"\n",
    "print(returnedText:=convert_emojicon(sample_happy2, isPrint==True))\n",
    "compareAdjustedScores(sample_happy2)"
   ]
  },
  {
   "cell_type": "markdown",
   "metadata": {},
   "source": [
    "**via NLTK Sentiment Analyser:**\n",
    "---"
   ]
  },
  {
   "cell_type": "code",
   "execution_count": 28,
   "metadata": {},
   "outputs": [
    {
     "name": "stdout",
     "output_type": "stream",
     "text": [
      "\n",
      "Case 1a:  disappointed face\n",
      " pre-emoji processing: {'neg': 0.0, 'neu': 0.0, 'pos': 0.0, 'compound': 0.0}\n",
      " post-emoji processing: {'neg': 0.73, 'neu': 0.27, 'pos': 0.0, 'compound': -0.4019}\n",
      "\n",
      "before: 0.0; after: -0.4019\n",
      "😞\n",
      "disappoint face\n",
      "\n",
      "Case 1b:  slightly frowning face \n",
      " pre-emoji processing: {'neg': 0.0, 'neu': 0.0, 'pos': 0.0, 'compound': 0.0}\n",
      " post-emoji processing: {'neg': 0.0, 'neu': 1.0, 'pos': 0.0, 'compound': 0.0}\n",
      "\n",
      "before: 0.0; after: 0.0\n",
      "🙁\n",
      " slightly frowning face \n",
      "\n",
      "Case 2a: grinning face \n",
      "pre-emoji processing: {'neg': 0.0, 'neu': 0.0, 'pos': 0.0, 'compound': 0.0}\n",
      "post-emoji processing: {'neg': 0.0, 'neu': 0.244, 'pos': 0.756, 'compound': 0.4767}\n",
      "\n",
      "before: 0.0; after: 0.4767\n",
      "😀\n",
      " grinning face \n",
      "\n",
      "Case 2b: slightly smiling face \n",
      " pre-emoji processing: {'neg': 0.0, 'neu': 0.0, 'pos': 0.0, 'compound': 0.0}\n",
      " post-emoji processing: {'neg': 0.0, 'neu': 0.425, 'pos': 0.575, 'compound': 0.4033}\n",
      "\n",
      "before: 0.0; after: 0.4033\n",
      "🙂\n",
      " slightly smiling face \n",
      "                    id                                  created_at  \\\n",
      "0  1241514861353406468  2020-03-21 17:59:43 Mountain Daylight Time   \n",
      "1  1241514829120040960  2020-03-21 17:59:36 Mountain Daylight Time   \n",
      "2  1241514705904115712  2020-03-21 17:59:06 Mountain Daylight Time   \n",
      "3  1241514692880683008  2020-03-21 17:59:03 Mountain Daylight Time   \n",
      "4  1241514689634467845  2020-03-21 17:59:02 Mountain Daylight Time   \n",
      "\n",
      "         date      time              user_id         username  \\\n",
      "0  2020-03-21  17:59:43  1016637745102577665         vlada682   \n",
      "1  2020-03-21  17:59:36           4863588554       jesamine09   \n",
      "2  2020-03-21  17:59:06   897577030476324864  thebitcoinpizza   \n",
      "3  2020-03-21  17:59:03   932046802680938496     bitcoinchute   \n",
      "4  2020-03-21  17:59:02   880916204378042368     emmamackay30   \n",
      "\n",
      "                                               tweet  \\\n",
      "0  32k $icx ans 1m $vet is it enough to become ri...   \n",
      "1  BIT FUN. Play games, have fun, earn bitcoin!. ...   \n",
      "2  The #BitcoinPizza would be worth US$61,850,665...   \n",
      "3                  You can buy a whole bitcoin. $btc   \n",
      "4  Investing in bitcoin has really changed my lif...   \n",
      "\n",
      "                      hashtags                                 cashtags  \\\n",
      "0                           []  ['icx', 'vet', 'btc', 'life', 'crypto']   \n",
      "1        ['bitcoin', 'faucet']                                       []   \n",
      "2  ['bitcoinpizza', 'bitcoin']                                       []   \n",
      "3                           []                                  ['btc']   \n",
      "4  ['bitcoin', 'cryptonation']                                       []   \n",
      "\n",
      "                                                link  \\\n",
      "0  https://twitter.com/Vlada682/status/1241514861...   \n",
      "1  https://twitter.com/jesamine09/status/12415148...   \n",
      "2  https://twitter.com/TheBitcoinPizza/status/124...   \n",
      "3  https://twitter.com/bitcoinchute/status/124151...   \n",
      "4  https://twitter.com/EmmaMackay30/status/124151...   \n",
      "\n",
      "                                         regex_tweet  \\\n",
      "0  32k ans 1m is it enough to become rich and ret...   \n",
      "1       BIT FUN Play games have fun earn bitcoin via   \n",
      "2  The would be worth US 850 665 15 right now (up...   \n",
      "3                        You can buy a whole bitcoin   \n",
      "4  Investing in bitcoin has really changed my life 🤑   \n",
      "\n",
      "                                      emojied_tweets  \n",
      "0  32k ans 1m is it enough to become rich and ret...  \n",
      "1       BIT FUN Play games have fun earn bitcoin via  \n",
      "2  The would be worth US 850 665 15 right now (up...  \n",
      "3                        You can buy a whole bitcoin  \n",
      "4  Investing in bitcoin has really changed my lif...  \n"
     ]
    }
   ],
   "source": [
    "sia = SIA()\n",
    "# initialize object first, as SIA (from NLTK) is an object class\n",
    "\n",
    "###\n",
    "sample_text_sad1a = \"😞\"\n",
    "score_sad1a, processedScore_sad1a = sia.polarity_scores(sample_text_sad1a), sia.polarity_scores(score_adjustedStemmed:=stem_tokenize(convert_emojicon(sample_text_sad1a, isPrint==False)))\n",
    "print(\"\\nCase 1a:  disappointed face\\n pre-emoji processing: {}\\n post-emoji processing: {}\\n\".format(score_sad1a, processedScore_sad1a))\n",
    "print(\"before: {}; after: {}\".format(score_sad1a['compound'], processedScore_sad1a['compound'],'\\n'))\n",
    "\n",
    "print(score_adjustedStemmed:=stem_tokenize(convert_emojicon(sample_text_sad1a, isPrint==True)))\n",
    "####\n",
    "\n",
    "sample_text_sad1b = \"🙁\"\n",
    "score_sad1b, processedScore_sad1b = sia.polarity_scores(sample_text_sad1b), sia.polarity_scores(score_adjustedStemmed:=stem_tokenize(convert_emojicon(sample_text_sad1b, isPrint==False)))\n",
    "print(\"\\nCase 1b:  slightly frowning face \\n pre-emoji processing: {}\\n post-emoji processing: {}\\n\".format(score_sad1b, processedScore_sad1b))\n",
    "print(\"before: {}; after: {}\".format(score_sad1b['compound'], processedScore_sad1b['compound'],'\\n'))\n",
    "\n",
    "print(convert_emojicon(sample_text_sad1b, isPrint==True))\n",
    "###\n",
    "\n",
    "sample_text_happy2a = \"😀\"\n",
    "score_happy2a, processedScore_happy2a = sia.polarity_scores(sample_text_happy2a), sia.polarity_scores(score_adjustedStemmed:=stem_tokenize(convert_emojicon(sample_text_happy2a, isPrint==False)))\n",
    "print(\"\\nCase 2a: grinning face \\npre-emoji processing: {}\\npost-emoji processing: {}\\n\".format(score_happy2a,processedScore_happy2a))\n",
    "print(\"before: {}; after: {}\".format(score_happy2a['compound'], processedScore_happy2a['compound'],'\\n'))\n",
    "\n",
    "print(convert_emojicon(sample_text_happy2a, isPrint==True))\n",
    "###\n",
    "\n",
    "sample_text_happy2b = \"🙂\"\n",
    "score_happy2b, processedScore_happy2b = sia.polarity_scores(sample_text_happy2b), sia.polarity_scores(convert_emojicon(sample_text_happy2b, isPrint==False))\n",
    "print(\"\\nCase 2b: slightly smiling face \\n pre-emoji processing: {}\\n post-emoji processing: {}\\n\".format(score_happy2b, processedScore_happy2b))\n",
    "print(\"before: {}; after: {}\".format(score_happy2b['compound'], processedScore_happy2b['compound'],'\\n'))\n",
    "\n",
    "print(convert_emojicon(sample_text_happy2b, isPrint==True))\n",
    "print(df.head())"
   ]
  },
  {
   "cell_type": "code",
   "execution_count": 37,
   "metadata": {},
   "outputs": [
    {
     "name": "stdout",
     "output_type": "stream",
     "text": [
      "{'neg': 0.513, 'neu': 0.487, 'pos': 0.0, 'compound': -0.2748}\n"
     ]
    },
    {
     "data": {
      "text/plain": [
       "' slightly frowning face '"
      ]
     },
     "execution_count": 37,
     "metadata": {},
     "output_type": "execute_result"
    }
   ],
   "source": [
    "print(sia.polarity_scores(scoreAdjusted:=convert_emojicon(sample_text_sad1b, isPrint==False)))\n",
    "scoreAdjusted"
   ]
  },
  {
   "cell_type": "code",
   "execution_count": 24,
   "metadata": {},
   "outputs": [
    {
     "name": "stdout",
     "output_type": "stream",
     "text": [
      "{'neg': 0.0, 'neu': 1.0, 'pos': 0.0, 'compound': 0.0}\n"
     ]
    },
    {
     "data": {
      "text/plain": [
       "'slight frown face'"
      ]
     },
     "execution_count": 24,
     "metadata": {},
     "output_type": "execute_result"
    }
   ],
   "source": [
    "df.drop()"
   ]
  },
  {
   "cell_type": "code",
   "execution_count": 32,
   "metadata": {},
   "outputs": [],
   "source": [
    "df['sentiment'] = df.apply(lambda row: sia.polarity_scores(row['emojied_tweets']), axis=1)"
   ]
  },
  {
   "cell_type": "code",
   "execution_count": 31,
   "metadata": {},
   "outputs": [
    {
     "name": "stdout",
     "output_type": "stream",
     "text": [
      "                    id                                  created_at  \\\n",
      "0  1241514861353406468  2020-03-21 17:59:43 Mountain Daylight Time   \n",
      "1  1241514829120040960  2020-03-21 17:59:36 Mountain Daylight Time   \n",
      "2  1241514705904115712  2020-03-21 17:59:06 Mountain Daylight Time   \n",
      "3  1241514692880683008  2020-03-21 17:59:03 Mountain Daylight Time   \n",
      "4  1241514689634467845  2020-03-21 17:59:02 Mountain Daylight Time   \n",
      "\n",
      "         date      time              user_id         username  \\\n",
      "0  2020-03-21  17:59:43  1016637745102577665         vlada682   \n",
      "1  2020-03-21  17:59:36           4863588554       jesamine09   \n",
      "2  2020-03-21  17:59:06   897577030476324864  thebitcoinpizza   \n",
      "3  2020-03-21  17:59:03   932046802680938496     bitcoinchute   \n",
      "4  2020-03-21  17:59:02   880916204378042368     emmamackay30   \n",
      "\n",
      "                                               tweet  \\\n",
      "0  32k $icx ans 1m $vet is it enough to become ri...   \n",
      "1  BIT FUN. Play games, have fun, earn bitcoin!. ...   \n",
      "2  The #BitcoinPizza would be worth US$61,850,665...   \n",
      "3                  You can buy a whole bitcoin. $btc   \n",
      "4  Investing in bitcoin has really changed my lif...   \n",
      "\n",
      "                      hashtags                                 cashtags  \\\n",
      "0                           []  ['icx', 'vet', 'btc', 'life', 'crypto']   \n",
      "1        ['bitcoin', 'faucet']                                       []   \n",
      "2  ['bitcoinpizza', 'bitcoin']                                       []   \n",
      "3                           []                                  ['btc']   \n",
      "4  ['bitcoin', 'cryptonation']                                       []   \n",
      "\n",
      "                                                link  \\\n",
      "0  https://twitter.com/Vlada682/status/1241514861...   \n",
      "1  https://twitter.com/jesamine09/status/12415148...   \n",
      "2  https://twitter.com/TheBitcoinPizza/status/124...   \n",
      "3  https://twitter.com/bitcoinchute/status/124151...   \n",
      "4  https://twitter.com/EmmaMackay30/status/124151...   \n",
      "\n",
      "                                         regex_tweet  \\\n",
      "0  32k ans 1m is it enough to become rich and ret...   \n",
      "1       BIT FUN Play games have fun earn bitcoin via   \n",
      "2  The would be worth US 850 665 15 right now (up...   \n",
      "3                        You can buy a whole bitcoin   \n",
      "4  Investing in bitcoin has really changed my life 🤑   \n",
      "\n",
      "                                      emojied_tweets  \\\n",
      "0  32k ans 1m is it enough to become rich and ret...   \n",
      "1       BIT FUN Play games have fun earn bitcoin via   \n",
      "2  The would be worth US 850 665 15 right now (up...   \n",
      "3                        You can buy a whole bitcoin   \n",
      "4  Investing in bitcoin has really changed my lif...   \n",
      "\n",
      "                                           sentiment  \n",
      "0  {'neg': 0.0, 'neu': 0.769, 'pos': 0.231, 'comp...  \n",
      "1  {'neg': 0.0, 'neu': 0.381, 'pos': 0.619, 'comp...  \n",
      "2  {'neg': 0.0, 'neu': 0.894, 'pos': 0.106, 'comp...  \n",
      "3  {'neg': 0.0, 'neu': 1.0, 'pos': 0.0, 'compound...  \n",
      "4  {'neg': 0.0, 'neu': 1.0, 'pos': 0.0, 'compound...  \n"
     ]
    }
   ],
   "source": [
    "print(df.head())"
   ]
  },
  {
   "cell_type": "markdown",
   "metadata": {},
   "source": [
    "----\n",
    "- adjusting score, without tokenization\n",
    "\n",
    "- adjusting score, then tokenization \n",
    "\n",
    "(eval how tokenization/stemmatization influences adjusted polarity scores for emojis)\n"
   ]
  },
  {
   "cell_type": "code",
   "execution_count": 10,
   "metadata": {},
   "outputs": [
    {
     "name": "stdout",
     "output_type": "stream",
     "text": [
      "Case 3: no tokenization, grinning face \n",
      "pre-emoji processing: {'neg': 0.0, 'neu': 0.0, 'pos': 0.0, 'compound': 0.0}\n",
      "post-emoji processing: {'neg': 0.0, 'neu': 0.286, 'pos': 0.714, 'compound': 0.3612}\n",
      "\n",
      "adjust score without tokenization:  0.0 0.3612 \n",
      "\n",
      "Case 3: +tokenization, grinning face \n",
      "pre-emoji processing: {'neg': 0.0, 'neu': 0.0, 'pos': 0.0, 'compound': 0.0}\n",
      "post-emoji processing: {'neg': 0.0, 'neu': 0.244, 'pos': 0.756, 'compound': 0.4767}\n",
      "\n",
      "adjust score WITH tokenization:  0.0 0.4767 \n",
      "\n"
     ]
    }
   ],
   "source": [
    "### tokenize than convert\n",
    "toBe_Adjusted = \"😀\"\n",
    "sample_adjusted=convert_emojicon(toBe_Adjusted, isPrint==False)\n",
    "print(\"Case 3: no tokenization, grinning face \\npre-emoji processing: {}\\npost-emoji processing: {}\\n\".format(sia.polarity_scores(toBe_Adjusted), sia.polarity_scores(sample_adjusted)))\n",
    "\n",
    "print(\"adjust score without tokenization: \",sia.polarity_scores(toBe_Adjusted)['compound'], sia.polarity_scores(sample_adjusted)['compound'],'\\n')\n",
    "\n",
    "\n",
    "### tokenize after converting\n",
    "toBe_adjusted_stemmed = \"😀\"\n",
    "sample_adjusted=convert_emojicon(toBe_adjusted_stemmed, isPrint==False)\n",
    "sample_adjustedStemmed=stem_tokenize(sample_adjusted)\n",
    "convert_emojicon(toBe_adjusted_stemmed, isPrint==False)\n",
    "print(\"Case 3: +tokenization, grinning face \\npre-emoji processing: {}\\npost-emoji processing: {}\\n\".format(sia.polarity_scores(toBe_adjusted_stemmed), sia.polarity_scores(sample_adjustedStemmed)))\n",
    "\n",
    "print(\"adjust score WITH tokenization: \", sia.polarity_scores(toBe_adjusted_stemmed)['compound'], sia.polarity_scores(sample_adjustedStemmed)['compound'],'\\n')\n"
   ]
  },
  {
   "cell_type": "code",
   "execution_count": 35,
   "metadata": {},
   "outputs": [],
   "source": [
    "def get_sent(collection):\n",
    "    return collection['compound']\n",
    "    "
   ]
  },
  {
   "cell_type": "code",
   "execution_count": 36,
   "metadata": {},
   "outputs": [],
   "source": [
    "df['sentiment_compound'] = df.apply(lambda row:get_sent(row['sentiment']), axis=1)"
   ]
  },
  {
   "cell_type": "code",
   "execution_count": 42,
   "metadata": {},
   "outputs": [],
   "source": [
    "def regex_final(tweet):\n",
    "    tweet = ' '.join(re.sub(\"[^a-zA-Z0-9 -]\", \" \", tweet).split())\n",
    "    return tweet"
   ]
  },
  {
   "cell_type": "code",
   "execution_count": 43,
   "metadata": {},
   "outputs": [],
   "source": [
    "df['pure_tweets'] = df.apply(lambda row:regex_final(row['emojied_tweets']), axis=1)"
   ]
  },
  {
   "cell_type": "code",
   "execution_count": 39,
   "metadata": {},
   "outputs": [],
   "source": [
    "compression_opts = dict(method='zip',\n",
    "                            archive_name='btc_analyzed.csv')"
   ]
  },
  {
   "cell_type": "code",
   "execution_count": 40,
   "metadata": {},
   "outputs": [],
   "source": [
    "df.to_csv('btc.zip',index=False, compression=compression_opts)"
   ]
  },
  {
   "cell_type": "code",
   "execution_count": 45,
   "metadata": {},
   "outputs": [
    {
     "ename": "KeyError",
     "evalue": "\"['user_id' 'regex_tweet' 'emojied_tweets'] not found in axis\"",
     "output_type": "error",
     "traceback": [
      "\u001B[1;31m---------------------------------------------------------------------------\u001B[0m",
      "\u001B[1;31mKeyError\u001B[0m                                  Traceback (most recent call last)",
      "\u001B[1;32m<ipython-input-45-651169da3285>\u001B[0m in \u001B[0;36m<module>\u001B[1;34m\u001B[0m\n\u001B[1;32m----> 1\u001B[1;33m \u001B[0mdf\u001B[0m \u001B[1;33m=\u001B[0m \u001B[0mdf\u001B[0m\u001B[1;33m.\u001B[0m\u001B[0mdrop\u001B[0m\u001B[1;33m(\u001B[0m\u001B[1;33m[\u001B[0m\u001B[1;34m'user_id'\u001B[0m\u001B[1;33m,\u001B[0m\u001B[1;34m'regex_tweet'\u001B[0m\u001B[1;33m,\u001B[0m\u001B[1;34m'emojied_tweets'\u001B[0m\u001B[1;33m,\u001B[0m\u001B[1;34m'tweet'\u001B[0m\u001B[1;33m]\u001B[0m\u001B[1;33m,\u001B[0m\u001B[0maxis\u001B[0m\u001B[1;33m=\u001B[0m\u001B[1;36m1\u001B[0m\u001B[1;33m)\u001B[0m\u001B[1;33m\u001B[0m\u001B[1;33m\u001B[0m\u001B[0m\n\u001B[0m",
      "\u001B[1;32m~\\AppData\\Local\\Packages\\PythonSoftwareFoundation.Python.3.9_qbz5n2kfra8p0\\LocalCache\\local-packages\\Python39\\site-packages\\pandas\\core\\frame.py\u001B[0m in \u001B[0;36mdrop\u001B[1;34m(self, labels, axis, index, columns, level, inplace, errors)\u001B[0m\n\u001B[0;32m   4306\u001B[0m                 \u001B[0mweight\u001B[0m  \u001B[1;36m1.0\u001B[0m     \u001B[1;36m0.8\u001B[0m\u001B[1;33m\u001B[0m\u001B[1;33m\u001B[0m\u001B[0m\n\u001B[0;32m   4307\u001B[0m         \"\"\"\n\u001B[1;32m-> 4308\u001B[1;33m         return super().drop(\n\u001B[0m\u001B[0;32m   4309\u001B[0m             \u001B[0mlabels\u001B[0m\u001B[1;33m=\u001B[0m\u001B[0mlabels\u001B[0m\u001B[1;33m,\u001B[0m\u001B[1;33m\u001B[0m\u001B[1;33m\u001B[0m\u001B[0m\n\u001B[0;32m   4310\u001B[0m             \u001B[0maxis\u001B[0m\u001B[1;33m=\u001B[0m\u001B[0maxis\u001B[0m\u001B[1;33m,\u001B[0m\u001B[1;33m\u001B[0m\u001B[1;33m\u001B[0m\u001B[0m\n",
      "\u001B[1;32m~\\AppData\\Local\\Packages\\PythonSoftwareFoundation.Python.3.9_qbz5n2kfra8p0\\LocalCache\\local-packages\\Python39\\site-packages\\pandas\\core\\generic.py\u001B[0m in \u001B[0;36mdrop\u001B[1;34m(self, labels, axis, index, columns, level, inplace, errors)\u001B[0m\n\u001B[0;32m   4151\u001B[0m         \u001B[1;32mfor\u001B[0m \u001B[0maxis\u001B[0m\u001B[1;33m,\u001B[0m \u001B[0mlabels\u001B[0m \u001B[1;32min\u001B[0m \u001B[0maxes\u001B[0m\u001B[1;33m.\u001B[0m\u001B[0mitems\u001B[0m\u001B[1;33m(\u001B[0m\u001B[1;33m)\u001B[0m\u001B[1;33m:\u001B[0m\u001B[1;33m\u001B[0m\u001B[1;33m\u001B[0m\u001B[0m\n\u001B[0;32m   4152\u001B[0m             \u001B[1;32mif\u001B[0m \u001B[0mlabels\u001B[0m \u001B[1;32mis\u001B[0m \u001B[1;32mnot\u001B[0m \u001B[1;32mNone\u001B[0m\u001B[1;33m:\u001B[0m\u001B[1;33m\u001B[0m\u001B[1;33m\u001B[0m\u001B[0m\n\u001B[1;32m-> 4153\u001B[1;33m                 \u001B[0mobj\u001B[0m \u001B[1;33m=\u001B[0m \u001B[0mobj\u001B[0m\u001B[1;33m.\u001B[0m\u001B[0m_drop_axis\u001B[0m\u001B[1;33m(\u001B[0m\u001B[0mlabels\u001B[0m\u001B[1;33m,\u001B[0m \u001B[0maxis\u001B[0m\u001B[1;33m,\u001B[0m \u001B[0mlevel\u001B[0m\u001B[1;33m=\u001B[0m\u001B[0mlevel\u001B[0m\u001B[1;33m,\u001B[0m \u001B[0merrors\u001B[0m\u001B[1;33m=\u001B[0m\u001B[0merrors\u001B[0m\u001B[1;33m)\u001B[0m\u001B[1;33m\u001B[0m\u001B[1;33m\u001B[0m\u001B[0m\n\u001B[0m\u001B[0;32m   4154\u001B[0m \u001B[1;33m\u001B[0m\u001B[0m\n\u001B[0;32m   4155\u001B[0m         \u001B[1;32mif\u001B[0m \u001B[0minplace\u001B[0m\u001B[1;33m:\u001B[0m\u001B[1;33m\u001B[0m\u001B[1;33m\u001B[0m\u001B[0m\n",
      "\u001B[1;32m~\\AppData\\Local\\Packages\\PythonSoftwareFoundation.Python.3.9_qbz5n2kfra8p0\\LocalCache\\local-packages\\Python39\\site-packages\\pandas\\core\\generic.py\u001B[0m in \u001B[0;36m_drop_axis\u001B[1;34m(self, labels, axis, level, errors)\u001B[0m\n\u001B[0;32m   4186\u001B[0m                 \u001B[0mnew_axis\u001B[0m \u001B[1;33m=\u001B[0m \u001B[0maxis\u001B[0m\u001B[1;33m.\u001B[0m\u001B[0mdrop\u001B[0m\u001B[1;33m(\u001B[0m\u001B[0mlabels\u001B[0m\u001B[1;33m,\u001B[0m \u001B[0mlevel\u001B[0m\u001B[1;33m=\u001B[0m\u001B[0mlevel\u001B[0m\u001B[1;33m,\u001B[0m \u001B[0merrors\u001B[0m\u001B[1;33m=\u001B[0m\u001B[0merrors\u001B[0m\u001B[1;33m)\u001B[0m\u001B[1;33m\u001B[0m\u001B[1;33m\u001B[0m\u001B[0m\n\u001B[0;32m   4187\u001B[0m             \u001B[1;32melse\u001B[0m\u001B[1;33m:\u001B[0m\u001B[1;33m\u001B[0m\u001B[1;33m\u001B[0m\u001B[0m\n\u001B[1;32m-> 4188\u001B[1;33m                 \u001B[0mnew_axis\u001B[0m \u001B[1;33m=\u001B[0m \u001B[0maxis\u001B[0m\u001B[1;33m.\u001B[0m\u001B[0mdrop\u001B[0m\u001B[1;33m(\u001B[0m\u001B[0mlabels\u001B[0m\u001B[1;33m,\u001B[0m \u001B[0merrors\u001B[0m\u001B[1;33m=\u001B[0m\u001B[0merrors\u001B[0m\u001B[1;33m)\u001B[0m\u001B[1;33m\u001B[0m\u001B[1;33m\u001B[0m\u001B[0m\n\u001B[0m\u001B[0;32m   4189\u001B[0m             \u001B[0mresult\u001B[0m \u001B[1;33m=\u001B[0m \u001B[0mself\u001B[0m\u001B[1;33m.\u001B[0m\u001B[0mreindex\u001B[0m\u001B[1;33m(\u001B[0m\u001B[1;33m**\u001B[0m\u001B[1;33m{\u001B[0m\u001B[0maxis_name\u001B[0m\u001B[1;33m:\u001B[0m \u001B[0mnew_axis\u001B[0m\u001B[1;33m}\u001B[0m\u001B[1;33m)\u001B[0m\u001B[1;33m\u001B[0m\u001B[1;33m\u001B[0m\u001B[0m\n\u001B[0;32m   4190\u001B[0m \u001B[1;33m\u001B[0m\u001B[0m\n",
      "\u001B[1;32m~\\AppData\\Local\\Packages\\PythonSoftwareFoundation.Python.3.9_qbz5n2kfra8p0\\LocalCache\\local-packages\\Python39\\site-packages\\pandas\\core\\indexes\\base.py\u001B[0m in \u001B[0;36mdrop\u001B[1;34m(self, labels, errors)\u001B[0m\n\u001B[0;32m   5589\u001B[0m         \u001B[1;32mif\u001B[0m \u001B[0mmask\u001B[0m\u001B[1;33m.\u001B[0m\u001B[0many\u001B[0m\u001B[1;33m(\u001B[0m\u001B[1;33m)\u001B[0m\u001B[1;33m:\u001B[0m\u001B[1;33m\u001B[0m\u001B[1;33m\u001B[0m\u001B[0m\n\u001B[0;32m   5590\u001B[0m             \u001B[1;32mif\u001B[0m \u001B[0merrors\u001B[0m \u001B[1;33m!=\u001B[0m \u001B[1;34m\"ignore\"\u001B[0m\u001B[1;33m:\u001B[0m\u001B[1;33m\u001B[0m\u001B[1;33m\u001B[0m\u001B[0m\n\u001B[1;32m-> 5591\u001B[1;33m                 \u001B[1;32mraise\u001B[0m \u001B[0mKeyError\u001B[0m\u001B[1;33m(\u001B[0m\u001B[1;34mf\"{labels[mask]} not found in axis\"\u001B[0m\u001B[1;33m)\u001B[0m\u001B[1;33m\u001B[0m\u001B[1;33m\u001B[0m\u001B[0m\n\u001B[0m\u001B[0;32m   5592\u001B[0m             \u001B[0mindexer\u001B[0m \u001B[1;33m=\u001B[0m \u001B[0mindexer\u001B[0m\u001B[1;33m[\u001B[0m\u001B[1;33m~\u001B[0m\u001B[0mmask\u001B[0m\u001B[1;33m]\u001B[0m\u001B[1;33m\u001B[0m\u001B[1;33m\u001B[0m\u001B[0m\n\u001B[0;32m   5593\u001B[0m         \u001B[1;32mreturn\u001B[0m \u001B[0mself\u001B[0m\u001B[1;33m.\u001B[0m\u001B[0mdelete\u001B[0m\u001B[1;33m(\u001B[0m\u001B[0mindexer\u001B[0m\u001B[1;33m)\u001B[0m\u001B[1;33m\u001B[0m\u001B[1;33m\u001B[0m\u001B[0m\n",
      "\u001B[1;31mKeyError\u001B[0m: \"['user_id' 'regex_tweet' 'emojied_tweets'] not found in axis\""
     ]
    }
   ],
   "source": [
    "\n",
    "df = df.drop(['user_id','regex_tweet','emojied_tweets','tweet'],axis=1)"
   ]
  },
  {
   "cell_type": "code",
   "execution_count": 46,
   "metadata": {},
   "outputs": [],
   "source": [
    "df = df.drop(['tweet'],axis=1)"
   ]
  },
  {
   "cell_type": "code",
   "execution_count": 47,
   "metadata": {},
   "outputs": [
    {
     "name": "stdout",
     "output_type": "stream",
     "text": [
      "                    id                                  created_at  \\\n",
      "0  1241514861353406468  2020-03-21 17:59:43 Mountain Daylight Time   \n",
      "1  1241514829120040960  2020-03-21 17:59:36 Mountain Daylight Time   \n",
      "2  1241514705904115712  2020-03-21 17:59:06 Mountain Daylight Time   \n",
      "3  1241514692880683008  2020-03-21 17:59:03 Mountain Daylight Time   \n",
      "4  1241514689634467845  2020-03-21 17:59:02 Mountain Daylight Time   \n",
      "\n",
      "         date      time         username                     hashtags  \\\n",
      "0  2020-03-21  17:59:43         vlada682                           []   \n",
      "1  2020-03-21  17:59:36       jesamine09        ['bitcoin', 'faucet']   \n",
      "2  2020-03-21  17:59:06  thebitcoinpizza  ['bitcoinpizza', 'bitcoin']   \n",
      "3  2020-03-21  17:59:03     bitcoinchute                           []   \n",
      "4  2020-03-21  17:59:02     emmamackay30  ['bitcoin', 'cryptonation']   \n",
      "\n",
      "                                  cashtags  \\\n",
      "0  ['icx', 'vet', 'btc', 'life', 'crypto']   \n",
      "1                                       []   \n",
      "2                                       []   \n",
      "3                                  ['btc']   \n",
      "4                                       []   \n",
      "\n",
      "                                                link  \\\n",
      "0  https://twitter.com/Vlada682/status/1241514861...   \n",
      "1  https://twitter.com/jesamine09/status/12415148...   \n",
      "2  https://twitter.com/TheBitcoinPizza/status/124...   \n",
      "3  https://twitter.com/bitcoinchute/status/124151...   \n",
      "4  https://twitter.com/EmmaMackay30/status/124151...   \n",
      "\n",
      "                                           sentiment  sentiment_compound  \\\n",
      "0  {'neg': 0.0, 'neu': 0.769, 'pos': 0.231, 'comp...              0.5574   \n",
      "1  {'neg': 0.0, 'neu': 0.381, 'pos': 0.619, 'comp...              0.8668   \n",
      "2  {'neg': 0.0, 'neu': 0.894, 'pos': 0.106, 'comp...              0.2263   \n",
      "3  {'neg': 0.0, 'neu': 1.0, 'pos': 0.0, 'compound...              0.0000   \n",
      "4  {'neg': 0.0, 'neu': 1.0, 'pos': 0.0, 'compound...              0.0000   \n",
      "\n",
      "                                         pure_tweets  \n",
      "0  32k ans 1m is it enough to become rich and ret...  \n",
      "1       BIT FUN Play games have fun earn bitcoin via  \n",
      "2  The would be worth US 850 665 15 right now up ...  \n",
      "3                        You can buy a whole bitcoin  \n",
      "4  Investing in bitcoin has really changed my lif...  \n"
     ]
    }
   ],
   "source": [
    "print(df.head())"
   ]
  },
  {
   "cell_type": "code",
   "execution_count": 48,
   "metadata": {},
   "outputs": [
    {
     "name": "stdout",
     "output_type": "stream",
     "text": [
      "                    id                                  created_at  \\\n",
      "0  1241514861353406468  2020-03-21 17:59:43 Mountain Daylight Time   \n",
      "1  1241514829120040960  2020-03-21 17:59:36 Mountain Daylight Time   \n",
      "2  1241514705904115712  2020-03-21 17:59:06 Mountain Daylight Time   \n",
      "3  1241514692880683008  2020-03-21 17:59:03 Mountain Daylight Time   \n",
      "4  1241514689634467845  2020-03-21 17:59:02 Mountain Daylight Time   \n",
      "\n",
      "         date      time         username                     hashtags  \\\n",
      "0  2020-03-21  17:59:43         vlada682                           []   \n",
      "1  2020-03-21  17:59:36       jesamine09        ['bitcoin', 'faucet']   \n",
      "2  2020-03-21  17:59:06  thebitcoinpizza  ['bitcoinpizza', 'bitcoin']   \n",
      "3  2020-03-21  17:59:03     bitcoinchute                           []   \n",
      "4  2020-03-21  17:59:02     emmamackay30  ['bitcoin', 'cryptonation']   \n",
      "\n",
      "                                  cashtags  \\\n",
      "0  ['icx', 'vet', 'btc', 'life', 'crypto']   \n",
      "1                                       []   \n",
      "2                                       []   \n",
      "3                                  ['btc']   \n",
      "4                                       []   \n",
      "\n",
      "                                                link  \\\n",
      "0  https://twitter.com/Vlada682/status/1241514861...   \n",
      "1  https://twitter.com/jesamine09/status/12415148...   \n",
      "2  https://twitter.com/TheBitcoinPizza/status/124...   \n",
      "3  https://twitter.com/bitcoinchute/status/124151...   \n",
      "4  https://twitter.com/EmmaMackay30/status/124151...   \n",
      "\n",
      "                                           sentiment   score  \\\n",
      "0  {'neg': 0.0, 'neu': 0.769, 'pos': 0.231, 'comp...  0.5574   \n",
      "1  {'neg': 0.0, 'neu': 0.381, 'pos': 0.619, 'comp...  0.8668   \n",
      "2  {'neg': 0.0, 'neu': 0.894, 'pos': 0.106, 'comp...  0.2263   \n",
      "3  {'neg': 0.0, 'neu': 1.0, 'pos': 0.0, 'compound...  0.0000   \n",
      "4  {'neg': 0.0, 'neu': 1.0, 'pos': 0.0, 'compound...  0.0000   \n",
      "\n",
      "                                         pure_tweets  \n",
      "0  32k ans 1m is it enough to become rich and ret...  \n",
      "1       BIT FUN Play games have fun earn bitcoin via  \n",
      "2  The would be worth US 850 665 15 right now up ...  \n",
      "3                        You can buy a whole bitcoin  \n",
      "4  Investing in bitcoin has really changed my lif...  \n"
     ]
    }
   ],
   "source": [
    "df=df.rename(columns={'sentiment_compound':'score'})\n",
    "print(df.head())"
   ]
  },
  {
   "cell_type": "code",
   "execution_count": 49,
   "metadata": {},
   "outputs": [
    {
     "name": "stdout",
     "output_type": "stream",
     "text": [
      "                    id                                  created_at  \\\n",
      "0  1241514861353406468  2020-03-21 17:59:43 Mountain Daylight Time   \n",
      "1  1241514829120040960  2020-03-21 17:59:36 Mountain Daylight Time   \n",
      "2  1241514705904115712  2020-03-21 17:59:06 Mountain Daylight Time   \n",
      "3  1241514692880683008  2020-03-21 17:59:03 Mountain Daylight Time   \n",
      "4  1241514689634467845  2020-03-21 17:59:02 Mountain Daylight Time   \n",
      "\n",
      "         date      time         username                     hashtags  \\\n",
      "0  2020-03-21  17:59:43         vlada682                           []   \n",
      "1  2020-03-21  17:59:36       jesamine09        ['bitcoin', 'faucet']   \n",
      "2  2020-03-21  17:59:06  thebitcoinpizza  ['bitcoinpizza', 'bitcoin']   \n",
      "3  2020-03-21  17:59:03     bitcoinchute                           []   \n",
      "4  2020-03-21  17:59:02     emmamackay30  ['bitcoin', 'cryptonation']   \n",
      "\n",
      "                                  cashtags  \\\n",
      "0  ['icx', 'vet', 'btc', 'life', 'crypto']   \n",
      "1                                       []   \n",
      "2                                       []   \n",
      "3                                  ['btc']   \n",
      "4                                       []   \n",
      "\n",
      "                                                link  \\\n",
      "0  https://twitter.com/Vlada682/status/1241514861...   \n",
      "1  https://twitter.com/jesamine09/status/12415148...   \n",
      "2  https://twitter.com/TheBitcoinPizza/status/124...   \n",
      "3  https://twitter.com/bitcoinchute/status/124151...   \n",
      "4  https://twitter.com/EmmaMackay30/status/124151...   \n",
      "\n",
      "                                           sentiment   score  \\\n",
      "0  {'neg': 0.0, 'neu': 0.769, 'pos': 0.231, 'comp...  0.5574   \n",
      "1  {'neg': 0.0, 'neu': 0.381, 'pos': 0.619, 'comp...  0.8668   \n",
      "2  {'neg': 0.0, 'neu': 0.894, 'pos': 0.106, 'comp...  0.2263   \n",
      "3  {'neg': 0.0, 'neu': 1.0, 'pos': 0.0, 'compound...  0.0000   \n",
      "4  {'neg': 0.0, 'neu': 1.0, 'pos': 0.0, 'compound...  0.0000   \n",
      "\n",
      "                                              tweets  \n",
      "0  32k ans 1m is it enough to become rich and ret...  \n",
      "1       BIT FUN Play games have fun earn bitcoin via  \n",
      "2  The would be worth US 850 665 15 right now up ...  \n",
      "3                        You can buy a whole bitcoin  \n",
      "4  Investing in bitcoin has really changed my lif...  \n"
     ]
    }
   ],
   "source": [
    "df=df.rename(columns={'pure_tweets':'tweets'})\n",
    "print(df.head())"
   ]
  },
  {
   "cell_type": "code",
   "execution_count": 50,
   "metadata": {},
   "outputs": [],
   "source": [
    "df.to_csv('btc.zip',index=False, compression=compression_opts)"
   ]
  },
  {
   "cell_type": "code",
   "execution_count": 51,
   "metadata": {},
   "outputs": [],
   "source": [
    "df = df.drop(['created_at','sentiment'],axis=1)"
   ]
  },
  {
   "cell_type": "code",
   "execution_count": 53,
   "metadata": {},
   "outputs": [],
   "source": [
    "df=df.rename(columns={'score':'sentiment'})"
   ]
  },
  {
   "cell_type": "code",
   "execution_count": 54,
   "metadata": {},
   "outputs": [
    {
     "name": "stdout",
     "output_type": "stream",
     "text": [
      "                    id        date      time         username  \\\n",
      "0  1241514861353406468  2020-03-21  17:59:43         vlada682   \n",
      "1  1241514829120040960  2020-03-21  17:59:36       jesamine09   \n",
      "2  1241514705904115712  2020-03-21  17:59:06  thebitcoinpizza   \n",
      "3  1241514692880683008  2020-03-21  17:59:03     bitcoinchute   \n",
      "4  1241514689634467845  2020-03-21  17:59:02     emmamackay30   \n",
      "\n",
      "                      hashtags                                 cashtags  \\\n",
      "0                           []  ['icx', 'vet', 'btc', 'life', 'crypto']   \n",
      "1        ['bitcoin', 'faucet']                                       []   \n",
      "2  ['bitcoinpizza', 'bitcoin']                                       []   \n",
      "3                           []                                  ['btc']   \n",
      "4  ['bitcoin', 'cryptonation']                                       []   \n",
      "\n",
      "                                                link  sentiment  \\\n",
      "0  https://twitter.com/Vlada682/status/1241514861...     0.5574   \n",
      "1  https://twitter.com/jesamine09/status/12415148...     0.8668   \n",
      "2  https://twitter.com/TheBitcoinPizza/status/124...     0.2263   \n",
      "3  https://twitter.com/bitcoinchute/status/124151...     0.0000   \n",
      "4  https://twitter.com/EmmaMackay30/status/124151...     0.0000   \n",
      "\n",
      "                                              tweets  \n",
      "0  32k ans 1m is it enough to become rich and ret...  \n",
      "1       BIT FUN Play games have fun earn bitcoin via  \n",
      "2  The would be worth US 850 665 15 right now up ...  \n",
      "3                        You can buy a whole bitcoin  \n",
      "4  Investing in bitcoin has really changed my lif...  \n"
     ]
    }
   ],
   "source": [
    "print(df.head())"
   ]
  },
  {
   "cell_type": "code",
   "execution_count": 71,
   "metadata": {},
   "outputs": [],
   "source": [
    "df.to_csv('btc.zip',index=False, compression=compression_opts, date_format='%Y-%m-%d')"
   ]
  },
  {
   "cell_type": "code",
   "execution_count": 59,
   "metadata": {},
   "outputs": [],
   "source": [
    "from datetime import datetime\n",
    "def reformat_date(date):\n",
    "    datetimeobject = datetime.strptime(date,'%m/%d/%Y')\n",
    "    newFormat=datetimeobject.strftime('%Y-%m-%d')\n",
    "    return newFormat\n",
    "    \n",
    "\n",
    "        \n",
    "        \n",
    "            \n",
    "    \n",
    "    "
   ]
  },
  {
   "cell_type": "code",
   "execution_count": 65,
   "metadata": {},
   "outputs": [],
   "source": [
    "df['date'] = pd.to_datetime(df['date'])"
   ]
  },
  {
   "cell_type": "code",
   "execution_count": 68,
   "metadata": {},
   "outputs": [
    {
     "name": "stdout",
     "output_type": "stream",
     "text": [
      "id                   object\n",
      "date         datetime64[ns]\n",
      "time                 object\n",
      "username             object\n",
      "hashtags             object\n",
      "cashtags             object\n",
      "link                 object\n",
      "sentiment           float64\n",
      "tweets               object\n",
      "dtype: object\n",
      "                    id       date      time         username  \\\n",
      "0  1241514861353406468 2020-03-21  17:59:43         vlada682   \n",
      "1  1241514829120040960 2020-03-21  17:59:36       jesamine09   \n",
      "2  1241514705904115712 2020-03-21  17:59:06  thebitcoinpizza   \n",
      "3  1241514692880683008 2020-03-21  17:59:03     bitcoinchute   \n",
      "4  1241514689634467845 2020-03-21  17:59:02     emmamackay30   \n",
      "\n",
      "                      hashtags                                 cashtags  \\\n",
      "0                           []  ['icx', 'vet', 'btc', 'life', 'crypto']   \n",
      "1        ['bitcoin', 'faucet']                                       []   \n",
      "2  ['bitcoinpizza', 'bitcoin']                                       []   \n",
      "3                           []                                  ['btc']   \n",
      "4  ['bitcoin', 'cryptonation']                                       []   \n",
      "\n",
      "                                                link  sentiment  \\\n",
      "0  https://twitter.com/Vlada682/status/1241514861...     0.5574   \n",
      "1  https://twitter.com/jesamine09/status/12415148...     0.8668   \n",
      "2  https://twitter.com/TheBitcoinPizza/status/124...     0.2263   \n",
      "3  https://twitter.com/bitcoinchute/status/124151...     0.0000   \n",
      "4  https://twitter.com/EmmaMackay30/status/124151...     0.0000   \n",
      "\n",
      "                                              tweets  \n",
      "0  32k ans 1m is it enough to become rich and ret...  \n",
      "1       BIT FUN Play games have fun earn bitcoin via  \n",
      "2  The would be worth US 850 665 15 right now up ...  \n",
      "3                        You can buy a whole bitcoin  \n",
      "4  Investing in bitcoin has really changed my lif...  \n"
     ]
    }
   ],
   "source": [
    "#convert_dict = {'date':str}\n",
    "#df = df.astype(convert_dict)\n",
    "print(df.dtypes)\n",
    "print(df.head())"
   ]
  },
  {
   "cell_type": "code",
   "execution_count": null,
   "metadata": {},
   "outputs": [],
   "source": []
  }
 ],
 "metadata": {
  "kernelspec": {
   "display_name": "Python 3",
   "language": "python",
   "name": "python3"
  },
  "language_info": {
   "codemirror_mode": {
    "name": "ipython",
    "version": 3
   },
   "file_extension": ".py",
   "mimetype": "text/x-python",
   "name": "python",
   "nbconvert_exporter": "python",
   "pygments_lexer": "ipython3",
   "version": "3.7.9"
  },
  "metadata": {
   "interpreter": {
    "hash": "7812ea015bdcee6f23a998adcdd2ef97c151c0c241b7b7070987d9313e41299d"
   }
  }
 },
 "nbformat": 4,
 "nbformat_minor": 4
}